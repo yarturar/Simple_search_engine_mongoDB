{
 "cells": [
  {
   "cell_type": "code",
   "execution_count": null,
   "metadata": {},
   "outputs": [
    {
     "name": "stdout",
     "output_type": "stream",
     "text": [
      "Insert query for type 1:\n",
      "love and cars\n",
      "Tf-idf-cosine_similarity111: [(0.47852149341501987, '5a234787bd966f3d367f0431'), (0.33808185104037414, '5a234777bd966f3d367f041c'), (0.29185891147099546, '5a23473dc2ef16160784d1e5'), (0.29185891147099546, '5a23473cbd966f3d367f03d7'), (0.29185891147099546, '5a23473ec2ef16160784d1e6'), (0.2918589114709954, '5a23476bbd966f3d367f040e'), (0.2918589114709954, '5a234782c2ef16160784d236'), (0.27164526184437465, '5a234724c2ef16160784d1c4'), (0.1706391332545128, '5a23473fbd966f3d367f03d9'), (0.1706391332545128, '5a234743c2ef16160784d1ec')]\n",
      "__________________________________________________________________\n",
      "Song 1\n",
      "{'_id': ObjectId('5a234787bd966f3d367f0431'), 'Url': 'http://www.lyricsfreak.com/t/tracy+chapman/3000+miles_20463754.html', 'Artist': 'Tracy Chapman', 'Title': '3,000 Miles', 'Lyrics': \"Good girls walk fast In groups of three Fast girls walk slow On side streets Sometimes the girls who walk alone Aren't found for days or weeks On the busy boulevards Bad boys call you names And cruise you hard Bullies laugh and grin and beat Your soft skin against The cold concrete [Chorus] I'm 3,000 miles away [Repeat: x4] Knock you down Make you bleed  Make you cry And make you think I'll die here soon if I don't leave If I don't leave if I don't leave This patch of sky and native ground Take turns to push and pull you down Forget trying to live and be happy I'll take safe and terror free [Chorus] Hit the floor Shut off the lights As the bullets fly Terror rules the dark night Dogs hang from the trees Training ground for punks and thieves Home of poor white retirees Who didn't bail And couldn't sell When color made the grass less green [Chorus] Apples are filled with razor blades But fools and innocents believe That love and faith and truth and beauty Can make a garden of this human factory [Chorus] Bad girls run fast Leave home alone No trace or clue of where they've gone Sometimes these girls are never found Never found never found [Chorus] \"}\n",
      "__________________________________________________________________\n",
      "Song 2\n",
      "{'_id': ObjectId('5a234777bd966f3d367f041c'), 'Url': 'http://www.lyricsfreak.com/r/ry+cooder/3+cool+cats_20589764.html', 'Artist': 'Ry Cooder', 'Title': '3 Cool Cats', 'Lyrics': \"three cool cats  three cool cats  parked on the corner in a beat up car  devouring up a liquor candy bar  talking all about how sharp they are  these three cool cats  three cool chicks  three cool chicks  walking down the street just swinging their hips  sw...ing up a bag of potato chips  and three cool cats did three big flips  for these three cool chicks  up pop that first cool cat  he said, “man look at that  men do you see what I see?”  “I want the middle chick”  “and I want the little chick”  “hey men, save one chick for me!”  three cool chicks  three cool chicks  they look like angels from up above  three cool cats really fell in love  three cool chicks made three fools  of these three cool cats  that's what they did  three cool chicks  made fools of these  three cool cats  I'm a fool for you baby  three cool chicks  three cool cats \"}\n",
      "__________________________________________________________________\n",
      "Song 3\n",
      "{'_id': ObjectId('5a23473dc2ef16160784d1e5'), 'Url': 'http://www.lyricsfreak.com/d/def+leppard/20th+century+boy_20509342.html', 'Artist': 'Def Leppard', 'Title': '20Th Century Boy', 'Lyrics': \"Friends say it's fine Friends say it's good Everybody says it's just like Robin Hood I walk like a rat Crawl like a cat Sting like a bee Babe I'm gonna be your man And it's plain to see You were meant for me Yeah, I'm your toy Your 20th Century boy Friends say it's fine Friends say it's good Everybody says it's just like Robin Hood Fly like a plane Drive like a car Ball like a hound Babe I'm gonna be your man And it's plain to see You were meant for me Yeah, I'm your toy Your 20th Century boy 20th Century boy, I wanna be your toy [4x] Friends say it's fine Friends say it's good Everybody says it's just like Robin Hood I walk like a rat Crawl like a cat Sting like a bee Babe I'm gonna be your man And it's plain to see You were meant for me Yeah I'm your toy Your 20th Century boy 20th Century boy, I wanna be your toy [Repeat x4] \"}\n",
      "__________________________________________________________________\n",
      "Song 4\n",
      "{'_id': ObjectId('5a23473cbd966f3d367f03d7'), 'Url': 'http://www.lyricsfreak.com/p/placebo/20th+century+boy_20109375.html', 'Artist': 'Placebo', 'Title': '20Th Century Boy', 'Lyrics': \"Friends say it's fine, friends say it's good Everybody says it's just like Robin Hood I move like a rat, talk like a cat, sting like a bee Babe I'm gonna be your man And it's plain to see you were meant for me, yeah I'm your toy Your twentieth century boy Friends says it's fine, friends says it's good Everybody says it's just like Robin Hood Fly like a plane, drive like a car, hold out your hand Babe I'm gonna be your man And it's plain to see you were meant for me, yeah I'm your boy Your twentieth century toy Twentieth century boy I want to be your toy Twentieth century boy I want to be your toy Twentieth century boy I want to be your toy Twentieth century boy I want to be your toy Friends say it's fine, friends say it's good Everybody says it's just like rock 'n' roll I move like a cat, talk like a rat, sting like a bee Babe I'm gonna be your man And it's plain to see you were meant for me, yeah I'm your toy Your twentieth century boy Twentieth century boy I want to be your toy Twentieth century boy I want to be your toy Twentieth century boy I want to be your toy Twentieth century boy I want to be your toy \"}\n",
      "__________________________________________________________________\n",
      "Song 5\n",
      "{'_id': ObjectId('5a23473ec2ef16160784d1e6'), 'Url': 'http://www.lyricsfreak.com/x/x+japan/20th+century+boy_20533530.html', 'Artist': 'X Japan', 'Title': '20Th Century Boy', 'Lyrics': \"Friends say it's fine, friends say it's good Everybody says it's just like rock'n roll I move like a rat, talk like a cat, sting like a bee Babe I'm gonna be your man And it's plain to see you were meant for me, yeah I'm your boy Your twentieth century toy Friends say it's fine, friends say it's good Everybody says it's just like rock'n roll Fly like a plane, drive like a car, hold out your hand Babe i'm gonna be your man And it's plain to see you were meant for me, yeah I'm your boy Your twentieth century toy 20th century boy I wanna be your toy [x4] Friends say it's fine, friends say it's good Everybody says it's just like rock'n roll I move like a cat, talk like a rat, sting like a bee Babe i'm gonna be your man And it's plain to see you were meant for me, yeah I'm your toy Your twentieth century boy 20th century boy I wanna be your toy [x4] \"}\n",
      "__________________________________________________________________\n",
      "Song 6\n",
      "{'_id': ObjectId('5a23476bbd966f3d367f040e'), 'Url': 'http://www.lyricsfreak.com/l/lloyd+cole/2cv_20084744.html', 'Artist': 'Lloyd Cole', 'Title': '2Cv', 'Lyrics': \"She drove her mother's car, 'twas a 2cv I was most impressed by her casual dress I was most impressed Inside her rented room colored deepest blue I suppose we found some kind of happiness To fill the emptiness We were simply wasting precious time Hiding from the cruelest summer sky She took her mother's car to get away from me Heaven knows that i, I can sympathize Oh I can sympathize For we were never close if the truth were told All we ever shared was a taste in clothes Oh we were never close We were simply losing everything Underneath the cruelest london sun We were simply wasting precious time We were simply wasting precious time We were simply wasting precious time \"}\n",
      "__________________________________________________________________\n",
      "Song 7\n",
      "{'_id': ObjectId('5a234782c2ef16160784d236'), 'Url': 'http://www.lyricsfreak.com/s/simple+minds/30+frames+a+second_20615282.html', 'Artist': 'Simple Minds', 'Title': '30 Frames A Second', 'Lyrics': \"Today I saw a film going backwards Thirty frames a second Was a man I recognized Say who you are I lost my job Security Self confidence Bank account Identity The league of youth Coming backward at me Thirty frames a second Say who you are Go back to father Father where's my food? You food is on the table That can't be food It's dirt Say who you are Look at my skin Look at my face Look at my arms Getting younger Going backwards Thirty frames a second Say who you are I crash my car Collapse in town Young immigrants And legionaries Fighting back back backwards Thirty frames a second Say who you are Some friends of mine I thought were dead A coming back \"}\n"
     ]
    },
    {
     "name": "stdout",
     "output_type": "stream",
     "text": [
      "__________________________________________________________________\n",
      "Song 8\n",
      "{'_id': ObjectId('5a234724c2ef16160784d1c4'), 'Url': 'http://www.lyricsfreak.com/r/robin+thicke/2+the+sky_20361033.html', 'Artist': 'Robin Thicke', 'Title': '2 The Sky', 'Lyrics': \"It's amazing the way the darkness falls And the truth out there is cold And nothing to keep you warm Jealousy and lies within me I got a feeling the sun won't shine today Oh, and I gotta know right now Will I be rich, have everything I want? I stop myself and look to the sky Oh, I got to give myself up to the sky The only truth is in the sky Nobody else can tell 'cause I'm stuck in a spell Of greed, and anger, and hate Ooo, I tried, I tried, I tried to rise above it But it comes right back Creeps up on me, and it hits me Double time This can't be my fate It's never too late I wake up holding on to this pain And there's nothing else I can do But to give myself up to the sky Save me Take me to the... To the sky Save me Take me, take me To the sky Oh, it's so wrong out here I need the sky So cold out here Come and save me I need to fly Oh, I gotta give myself to the sky Ooo, baby, oh (Oh, oh Hold me, love me, want me deeply Take me to the sky To the sky, ooo To the sky Hold me, love me, want me deeply Take me to the sky, ooo Oh, oh) When you ask yourself Hey, why me, and why not me? When you're down on your knees Hey, look to the sky Just look to the sky You don't need no faster car Or no bigger house All you really need is friends and love Hey, come on home, woo Throw up your hands Just throw up your heart All you really need is love, ooo I'm comin' home Come on home Ooo \"}\n",
      "__________________________________________________________________\n",
      "Song 9\n",
      "{'_id': ObjectId('5a23473fbd966f3d367f03d9'), 'Url': 'http://www.lyricsfreak.com/s/simple+minds/20th+century+promised+land_20124954.html', 'Artist': 'Simple Minds', 'Title': '20Th Century Promised Land', 'Lyrics': \"Stories came like the wind Joining every bridge in the wind Ringing out footsteps Calling out stell-heels I give voice I give breath Count out evenings and stars How fast can these things move on Taking roots back to yourself And the reason for fear was moving on And on Some time Great times Troubled time Fire for the times Ringing out footsteps Calling out steel-heels Promised land Great times in commotion Here come every day It only lasts an hour Unhappy the land that has no heroes No! Unhappy the land that needs heroes And the reason for fear was moving on The speed of light was moving on Don't cry Tears are only wasted waters Some say God her only loves the proud Be damned on luck But not dishearted Nothing to prove And nothing to present I give voice I give breath Catching winds in my hand My hand Some times Great times Catching wind in my hand My hand Some times Great times Troubled times Fire for the times Ringing out footsteps Calling out steel-heels Promised land Great times in commotion Here comes every dat It only lasts an hour Unhappy the land that has no heroes No! Unhappy the land that needs heroes I'll call you out I'll scream you out And I don't care if you're afraid When city sounds invade the air Catch the wind in their hands Promised land Catch the wind in their hands Promised lands Promised lands Promised lands Great times in commotion \"}\n",
      "__________________________________________________________________\n",
      "Song 10\n",
      "{'_id': ObjectId('5a234743c2ef16160784d1ec'), 'Url': 'http://www.lyricsfreak.com/a/alanis+morissette/21+things+i+want+in+a+lover_20005495.html', 'Artist': 'Alanis Morissette', 'Title': '21 Things I Want In A Lover', 'Lyrics': \"Do you derive joy when someone else succeeds?  Do you not play dirty when engaged in competition?  Do you have a big intellectual capacity but know  That it alone does not equate wisdom?  Do you see everything as an illusion?  But enjoy it even though you are not of it?  Are you both masculine and feminine? politically aware?  And don't believe in capital punishment?  These are 21 things that I want in a lover  Not necessarily needs but qualities that I prefer  Do you derive joy from diving in and seeing that  Loving someone can actually feel like freedom? are you funny?  la self-deprecating? like adventure? and have many formed opinions? These are 21 things that I want in a lover  Not necessarily needs but qualities that I prefer  I figure I can describe it since I have a choice in the matter  These are 21 things I choose to choose in a lover  I'm in no hurry I could wait forever  I'm in no rush 'cause I like being solo  There are no worries and certainly no pressure in the meantime  I'll live like there's no tomorrow  Are you uninhibited in bed? more than three times a week?  Up for being experimental? are you athletic?  Are you thriving in a job that helps your brother? are you not addicted? ...curious and communicative... \"}\n",
      "Type 1 search\n",
      "Insert your query for type 2:\n"
     ]
    }
   ],
   "source": [
    "\n",
    "import os, index, statistics, search\n",
    "from cleaning_data import send_data\n",
    "\n",
    "def stat():\n",
    "    statistics.most_songs()\n",
    "    statistics.popular_words()\n",
    "    statistics.famous_name()\n",
    "    statistics.song_length()\n",
    "\n",
    "\n",
    "if __name__ == '__main__':\n",
    "\n",
    "    \n",
    "    print(\"Insert query for type 1:\")\n",
    "   \n",
    "    print(search.type_1())\n",
    "\n",
    "    #Query Type 2\n",
    "    print(\"Insert your query for type 2:\")\n",
    "    query = input()\n",
    "    search.query_type_two(query)"
   ]
  }
 ],
 "metadata": {
  "kernelspec": {
   "display_name": "Python 3",
   "language": "python",
   "name": "python3"
  },
  "language_info": {
   "codemirror_mode": {
    "name": "ipython",
    "version": 3
   },
   "file_extension": ".py",
   "mimetype": "text/x-python",
   "name": "python",
   "nbconvert_exporter": "python",
   "pygments_lexer": "ipython3",
   "version": "3.6.3"
  }
 },
 "nbformat": 4,
 "nbformat_minor": 2
}
